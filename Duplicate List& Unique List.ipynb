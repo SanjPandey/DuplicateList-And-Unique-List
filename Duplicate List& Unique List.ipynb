{
 "cells": [
  {
   "cell_type": "markdown",
   "id": "217b6a59",
   "metadata": {},
   "source": [
    "# Write a program to find unique list and duplicate list from given list.for ex.a=[\"apple\",\"apple\",\"lemon\",\"mango\",\"lemon\"]"
   ]
  },
  {
   "cell_type": "code",
   "execution_count": 18,
   "id": "87777e8e",
   "metadata": {},
   "outputs": [
    {
     "name": "stdout",
     "output_type": "stream",
     "text": [
      "['apple', 'lemon', 'mango']\n",
      "['apple', 'lemon']\n"
     ]
    }
   ],
   "source": [
    "unique_list=[]\n",
    "duplicate_list=[]\n",
    "a=[\"apple\",\"apple\",\"lemon\",\"mango\",\"lemon\"]\n",
    "for i in a:\n",
    "   # print(i)\n",
    "    if i in unique_list:\n",
    "        duplicate_list.append(i)\n",
    "    else:\n",
    "        unique_list.append(i)\n",
    "print(unique_list)\n",
    "print(duplicate_list)\n",
    "    \n",
    "\n"
   ]
  },
  {
   "cell_type": "markdown",
   "id": "b9c19a70",
   "metadata": {},
   "source": [
    "# Write a program to seperate all string in one list and all digit in one list . like\n",
    "a = [[\"hi\",\"hello\",\"welcome\"], [1,2,3], [\"demo\", \"try\"], [4,5,6]]\n",
    "out1 = [\"hi\",\"hello\",\"welcome\",\"demo\", \"try\"]\n",
    "out2 = [1,2,3,4,5,6]"
   ]
  },
  {
   "cell_type": "code",
   "execution_count": 35,
   "id": "be23f11d",
   "metadata": {},
   "outputs": [
    {
     "name": "stdout",
     "output_type": "stream",
     "text": [
      "String List: ['hi', 'hello', 'welcome', 'demo', 'try']\n",
      "Digit List: [1, 2, 3, 4, 5, 6]\n"
     ]
    }
   ],
   "source": [
    "digit_list = []\n",
    "string_list = []\n",
    "parentlist = [[\"hi\",\"hello\",\"welcome\"], [1,2,3], [\"demo\", \"try\"], [4,5,6]]\n",
    "\n",
    "for childlist in parentlist:\n",
    "    for item in childlist:\n",
    "        if isinstance(item, str):\n",
    "            string_list.append(item)\n",
    "        elif isinstance(item, int):\n",
    "            digit_list.append(item)\n",
    "            \n",
    "print(\"String List:\", string_list)\n",
    "print(\"Digit List:\", digit_list)\n",
    "\n",
    "\n"
   ]
  },
  {
   "cell_type": "markdown",
   "id": "ed613874",
   "metadata": {},
   "source": [
    "# Write a program to find unique list and duplicate list from given list.for ex. a=[1,2,3,4,5,1,3,4]"
   ]
  },
  {
   "cell_type": "code",
   "execution_count": 38,
   "id": "1542d8d0",
   "metadata": {},
   "outputs": [
    {
     "name": "stdout",
     "output_type": "stream",
     "text": [
      "[1, 2, 3, 4, 5]\n",
      "[1, 3, 4]\n"
     ]
    }
   ],
   "source": [
    "unique_number=[]\n",
    "duplicate_number=[]\n",
    "a=[1,2,3,4,5,1,3,4]\n",
    "\n",
    "for i in a:\n",
    "    if i in unique_number:\n",
    "        duplicate_number.append(i)\n",
    "    else:\n",
    "        unique_number.append(i)\n",
    "        \n",
    "print(unique_number)\n",
    "print( duplicate_number)\n",
    "\n"
   ]
  },
  {
   "cell_type": "code",
   "execution_count": null,
   "id": "a02e67e9",
   "metadata": {},
   "outputs": [],
   "source": [
    " "
   ]
  }
 ],
 "metadata": {
  "kernelspec": {
   "display_name": "Python 3 (ipykernel)",
   "language": "python",
   "name": "python3"
  },
  "language_info": {
   "codemirror_mode": {
    "name": "ipython",
    "version": 3
   },
   "file_extension": ".py",
   "mimetype": "text/x-python",
   "name": "python",
   "nbconvert_exporter": "python",
   "pygments_lexer": "ipython3",
   "version": "3.11.5"
  }
 },
 "nbformat": 4,
 "nbformat_minor": 5
}
